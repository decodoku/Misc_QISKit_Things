{
 "cells": [
  {
   "cell_type": "markdown",
   "metadata": {},
   "source": [
    "# How to use `twobit`"
   ]
  },
  {
   "cell_type": "code",
   "execution_count": 1,
   "metadata": {},
   "outputs": [],
   "source": [
    "from qiskit import ClassicalRegister, QuantumRegister, QuantumCircuit, execute, compile, IBMQ, BasicAer\n",
    "import numpy as np\n",
    "import random\n",
    "\n",
    "def get_backend(device):\n",
    "    \"\"\"Returns backend object for device specified by input string.\"\"\"\n",
    "    try:\n",
    "        backend = BasicAer.get_backend(device)\n",
    "    except:\n",
    "        print(\"You are using an IBMQ backend. The results for this are provided in accordance with the IBM Q Experience EULA.\\nhttps://quantumexperience.ng.bluemix.net/qx/terms\") # Legal stuff! Yay!\n",
    "        backend = IBMQ.get_backend(device)\n",
    "    return backend\n",
    "\n",
    "class twobit:\n",
    "    \"\"\"An object that can store a single boolean value, but can do so in two incompatible ways. It is implemented on a single qubit using two complementary measurement bases.\"\"\"\n",
    "    \n",
    "    def __init__(self):\n",
    "        \"\"\"Create a twobit object, initialized to give a random boolean value for both measurement types.\"\"\"\n",
    "        self.qr = QuantumRegister(1)\n",
    "        self.cr = ClassicalRegister(1)\n",
    "        self.qc = QuantumCircuit(self.qr, self.cr)\n",
    "        self.prepare({'Y':None})\n",
    "        \n",
    "    def prepare(self,state):\n",
    "        \"\"\"Supplying `state={basis,b}` prepares a twobit with the boolean `b` stored using the measurement type specified by `basis` (which can be 'X', 'Y' or 'Z').\n",
    "        \n",
    "        Note that `basis='Y'` (and arbitrary `b`) will result in the twobit giving a random result for both 'X' and 'Z' (and similarly for any one versus the remaining two). \"\"\"\n",
    "        self.qc = QuantumCircuit(self.qr, self.cr)\n",
    "        if 'Y' in state:\n",
    "            self.qc.h(self.qr[0])\n",
    "            if state['Y']:\n",
    "                self.qc.sdg(self.qr[0])\n",
    "            else:\n",
    "                self.qc.s(self.qr[0])\n",
    "        elif 'X' in state:\n",
    "            if state['X']:\n",
    "                self.qc.x(self.qr[0])\n",
    "            self.qc.h(self.qr[0])\n",
    "        elif 'Z' in state:\n",
    "            if state['Z']:\n",
    "                self.qc.x(self.qr[0])\n",
    "                \n",
    "    def value (self,basis,device='qasm_simulator',noisy=False,shots=1024,mitigate=True):\n",
    "        \"\"\"Extracts the boolean value for the given measurement type. The twobit is also reinitialized to ensure that the same value would if the same call to `measure()` was repeated.\n",
    "        \n",
    "        basis = 'X' or 'Z', specifying the desired measurement type.\n",
    "        device = A string specifying a backend. The noisy behaviour from a real device will result in some randomness in the value given, even if it has been set to a definite value for a given measurement type. This effect can be reduced using `mitigate=True`.\n",
    "        shots = Number of shots used when extracting results from the qubit. A value of greater than 1 only has any effect for `mitigate=True`, in which case larger values of `shots` allow for better mitigation.\n",
    "        mitigate = Boolean specifying whether mitigation should be applied. If so the values obtained over `shots` samples are considered, and the fraction which output `True` is calculated. If this is more than 90%, measure will return `True`. If less than 10%, it will return `False`, otherwise it returns a random value using the fraction as the probability.\"\"\"\n",
    "        if basis=='X':\n",
    "            self.qc.h(self.qr[0])\n",
    "        elif basis=='Y':\n",
    "            self.qc.sdg(self.qr[0])\n",
    "            self.qc.h(self.qr[0])\n",
    "        self.qc.barrier(self.qr)\n",
    "        \n",
    "        ######################changes begin here######################\n",
    "        if noisy==True:\n",
    "            theta = 0.1*np.pi\n",
    "        else:\n",
    "            theta = noisy*np.pi\n",
    "        if noisy:\n",
    "            self.qc.rx(theta,self.qr)\n",
    "            self.qc.ry(theta,self.qr)\n",
    "            self.qc.rz(theta,self.qr)\n",
    "        ######################changes end here######################\n",
    "        \n",
    "        self.qc.measure(self.qr,self.cr)\n",
    "        try:\n",
    "            job = execute(self.qc, backend=get_backend(device), noise_model=get_noise(noisy), shots=shots)\n",
    "        except:\n",
    "            job = execute(self.qc, backend=get_backend(device), shots=shots)\n",
    "        stats = job.result().get_counts()\n",
    "        if '1' in stats:\n",
    "            p = stats['1']/shots\n",
    "        else:\n",
    "            p = 0\n",
    "        if mitigate: # if p is close to 0 or 1, just make it 0 or 1\n",
    "            if p<0.1:\n",
    "                p = 0\n",
    "            elif p>0.9:\n",
    "                p = 1\n",
    "        measured_value = ( p>random.random() )\n",
    "        self.prepare({basis:measured_value})\n",
    "        \n",
    "        return measured_value\n",
    "\n",
    "    def X_value (self,device='qasm_simulator',noisy=False,shots=1024,mitigate=True):\n",
    "        \"\"\"Extracts the boolean value via the X basis. For details of kwargs, see `value()`.\"\"\"\n",
    "        return self.value('X',device=device,noisy=noisy,shots=shots,mitigate=mitigate)\n",
    "\n",
    "    def Y_value (self,device='qasm_simulator',noisy=False,shots=1024,mitigate=True):\n",
    "        \"\"\"Extracts the boolean value via the X basis. For details of kwargs, see `value()`.\"\"\"\n",
    "        return self.value('Y',device=device,noisy=noisy,shots=shots,mitigate=mitigate)\n",
    "        \n",
    "    def Z_value (self,device='qasm_simulator',noisy=False,shots=1024,mitigate=True):\n",
    "        \"\"\"Extracts the boolean value via the X basis. For details of kwargs, see `value()`.\"\"\"\n",
    "        return self.value('Z',device=device,noisy=noisy,shots=shots,mitigate=mitigate)\n",
    "    "
   ]
  },
  {
   "cell_type": "markdown",
   "metadata": {},
   "source": [
    "A qubit is the quantum version of a bit. So you can use it to store boolean values. That's basically what a `twobit` object does."
   ]
  },
  {
   "cell_type": "code",
   "execution_count": 2,
   "metadata": {},
   "outputs": [],
   "source": [
    "b = twobit()"
   ]
  },
  {
   "cell_type": "markdown",
   "metadata": {},
   "source": [
    "We can prepare our bit with the value `True` or `False`, and then read it out again using the `Z_value()` method."
   ]
  },
  {
   "cell_type": "code",
   "execution_count": 3,
   "metadata": {},
   "outputs": [
    {
     "name": "stdout",
     "output_type": "stream",
     "text": [
      "    bit value = True\n"
     ]
    }
   ],
   "source": [
    "b.prepare({'Z':True})\n",
    "print(\"    bit value =\",b.Z_value() )"
   ]
  },
  {
   "cell_type": "code",
   "execution_count": 4,
   "metadata": {},
   "outputs": [
    {
     "name": "stdout",
     "output_type": "stream",
     "text": [
      "    bit value = False\n"
     ]
    }
   ],
   "source": [
    "b.prepare({'Z':False})\n",
    "print(\"    bit value =\",b.Z_value() )"
   ]
  },
  {
   "cell_type": "markdown",
   "metadata": {},
   "source": [
    "You probably notice the `Z` in all the lines above. This is because, though you can only store one bit in a single qubit, there are many ways to do it. So when preparing the bit, and when reading out the value, you need to specify what method is used. In the above, we used what is known as the `Z` basis.\n",
    "\n",
    "The `twobit` object also supports the use of the so-called `X` basis."
   ]
  },
  {
   "cell_type": "code",
   "execution_count": 5,
   "metadata": {},
   "outputs": [
    {
     "name": "stdout",
     "output_type": "stream",
     "text": [
      "    bit value = True\n"
     ]
    }
   ],
   "source": [
    "b.prepare({'X':True})\n",
    "print(\"    bit value =\",b.X_value() )"
   ]
  },
  {
   "cell_type": "code",
   "execution_count": 6,
   "metadata": {},
   "outputs": [
    {
     "name": "stdout",
     "output_type": "stream",
     "text": [
      "    bit value = False\n"
     ]
    }
   ],
   "source": [
    "b.prepare({'X':False})\n",
    "print(\"    bit value =\",b.X_value() )"
   ]
  },
  {
   "cell_type": "markdown",
   "metadata": {},
   "source": [
    "These two ways of storing a bit are completely incompatible. If you encode using the `Z` basis and read out using the `X` (or vice-versa) you'll get a random result."
   ]
  },
  {
   "cell_type": "code",
   "execution_count": 7,
   "metadata": {},
   "outputs": [
    {
     "name": "stdout",
     "output_type": "stream",
     "text": [
      "    Here are 10 trials with, each with True encoded in the Z basis. The values read out with X are:\n",
      "\n",
      "        Try 1: False\n",
      "        Try 2: False\n",
      "        Try 3: True\n",
      "        Try 4: False\n",
      "        Try 5: True\n",
      "        Try 6: False\n",
      "        Try 7: True\n",
      "        Try 8: False\n",
      "        Try 9: True\n",
      "        Try 10: False\n"
     ]
    }
   ],
   "source": [
    "print(\"    Here are 10 trials with, each with True encoded in the Z basis. The values read out with X are:\\n\")\n",
    "for trial in range(1,11):\n",
    "    b.prepare({'Z':True})\n",
    "    message = \"        Try \" + str(trial)+\": \"\n",
    "    message += str( b.X_value() ) \n",
    "    print( message )"
   ]
  },
  {
   "cell_type": "markdown",
   "metadata": {},
   "source": [
    "Once you read a value out for a given basis, the qubit forgets anything that was encoded within it before the readout. So though encoding with `Z` and then reading out with `X` gives a random value, that value will remain if you read out using `X` again.\n",
    "\n",
    "Below we do the same as before, but this time the readout is done 5 times during each individual trail, instead of just once."
   ]
  },
  {
   "cell_type": "code",
   "execution_count": 8,
   "metadata": {},
   "outputs": [
    {
     "name": "stdout",
     "output_type": "stream",
     "text": [
      "        Try 1: True, True, True, True, True, \n",
      "        Try 2: True, True, True, True, True, \n",
      "        Try 3: False, False, False, False, False, \n",
      "        Try 4: True, True, True, True, True, \n",
      "        Try 5: True, True, True, True, True, \n",
      "        Try 6: False, False, False, False, False, \n",
      "        Try 7: False, False, False, False, False, \n",
      "        Try 8: True, True, True, True, True, \n",
      "        Try 9: False, False, False, False, False, \n",
      "        Try 10: False, False, False, False, False, \n"
     ]
    }
   ],
   "source": [
    "for trial in range(1,11):\n",
    "    message = \"        Try \" + str(trial)+\": \"\n",
    "    b.prepare({'Z':True})\n",
    "    for repeat in range(5):\n",
    "        message += str( b.X_value() ) + \", \"\n",
    "    print(message)"
   ]
  },
  {
   "cell_type": "markdown",
   "metadata": {},
   "source": [
    "This behaviour is exactly why `Z_value()` and `X_value()` need to be methods of the objects rather than just attributes. If they were attributes, it would imply that they can both have well defined values at the same time, which we can just look at whenever we want without changing the object. But this is not the case. Instead, the action of extracting the values requires the object to run a process, known as measurement, which can change what is going on inside the object. That's why it needs a method."
   ]
  },
  {
   "cell_type": "markdown",
   "metadata": {},
   "source": [
    "The `X_value()`, `Z_value()` and `value()` methods all have the standard kwargs `device`, `noisy` and `shots` as explained in [the README](README.md). When noise is present, the wrong output might be returned with a small probability. Some mitigation is done to make this less likely. This can be turned off by setting the `mitigate=True` qwarg to `False`. Large values of `shots` (such as 1024) allow the mitigation to work better than for smaller values. At the extreme of `shots=1`, the mitigation becomes powerless."
   ]
  },
  {
   "cell_type": "markdown",
   "metadata": {},
   "source": [
    "For example, here is the same setup as above (10 samples, each with 5 repeated readouts) but with unmitigated noise."
   ]
  },
  {
   "cell_type": "code",
   "execution_count": 9,
   "metadata": {},
   "outputs": [
    {
     "name": "stdout",
     "output_type": "stream",
     "text": [
      "        Try 1: True, True, False, False, False, \n",
      "        Try 2: False, False, False, False, False, \n",
      "        Try 3: True, True, True, True, True, \n",
      "        Try 4: False, False, False, False, False, \n",
      "        Try 5: True, True, True, True, True, \n",
      "        Try 6: True, True, True, True, True, \n",
      "        Try 7: True, True, True, True, True, \n",
      "        Try 8: False, False, False, False, False, \n",
      "        Try 9: True, True, True, True, True, \n",
      "        Try 10: True, True, True, True, True, \n"
     ]
    }
   ],
   "source": [
    "b = twobit()\n",
    "for trial in range(1,11):\n",
    "    message = \"        Try \" + str(trial)+\": \"\n",
    "    b.prepare({'Z':True})\n",
    "    for repeat in range(5):\n",
    "        message += str( b.X_value(noisy=0.1,mitigate=False) ) + \", \"\n",
    "    print(message)"
   ]
  },
  {
   "cell_type": "markdown",
   "metadata": {},
   "source": [
    "And now with mitigated noise."
   ]
  },
  {
   "cell_type": "code",
   "execution_count": 10,
   "metadata": {},
   "outputs": [
    {
     "name": "stdout",
     "output_type": "stream",
     "text": [
      "        Try 1: True, True, True, True, True, \n",
      "        Try 2: False, False, False, False, False, \n",
      "        Try 3: True, True, True, True, True, \n",
      "        Try 4: False, False, False, False, False, \n",
      "        Try 5: True, True, True, True, True, \n",
      "        Try 6: True, True, True, True, True, \n",
      "        Try 7: False, False, False, False, False, \n",
      "        Try 8: False, False, False, False, False, \n",
      "        Try 9: True, True, True, True, True, \n",
      "        Try 10: False, False, False, False, False, \n"
     ]
    }
   ],
   "source": [
    "b = twobit()\n",
    "for trial in range(1,11):\n",
    "    message = \"        Try \" + str(trial)+\": \"\n",
    "    b.prepare({'Z':True})\n",
    "    for repeat in range(5):\n",
    "        message += str( b.X_value(noisy=True) ) + \", \"\n",
    "    print(message)"
   ]
  },
  {
   "cell_type": "markdown",
   "metadata": {},
   "source": [
    "In the game [Battleships with complementary measurements](https://medium.com/@decodoku/how-to-program-a-quantum-computer-part-2-f0d3eee872fe), this behaviour is used to implement the attacks that can be made on ships. There are two kinds of attack, with correspond calling `value()` with either `Z` or `X`.\n",
    "\n",
    "A ship is destroyed when the result is `True`. If `False`, the ship survives the attack. It also becomes immune to it, since another identical call to `value()` will give the same result. Sof fo any hope of succes, the other type of attack must be used. If the ship again survives, it will have forgotten its immunity to the previous attack type. So switching between attacks will ensure victory in the end.\n",
    "\n",
    "*Note: The following cell is interactive so you'll need to run it yourself*"
   ]
  },
  {
   "cell_type": "code",
   "execution_count": null,
   "metadata": {},
   "outputs": [],
   "source": [
    "ship = twobit()\n",
    "\n",
    "destroyed = False\n",
    "while not destroyed:\n",
    "    basis = input('\\n    > Choose a torpedo type (Z or X)...\\n    ')\n",
    "    destroyed = ship.value(basis)\n",
    "    if destroyed:\n",
    "        print('\\n    *Ship destroyed!*')\n",
    "    else:\n",
    "        print('\\n    *Attack failed!*')\n",
    "print('\\n    **Mission complete!**')"
   ]
  },
  {
   "cell_type": "markdown",
   "metadata": {},
   "source": [
    "Note that the `prepare()` method was never called above. This resulting in the first use of `value()` giving a random outcome, regardless of whether `X` or `Z` as used. Also, rather than using the `X_value()` or `Z_value()` methods, we used `value()` with a kwarg to specify `X` or `Z`. This is just a shortcut provided to write nicer programs in cases like these.\n",
    "\n"
   ]
  },
  {
   "cell_type": "markdown",
   "metadata": {},
   "source": [
    "Finally, it should be noted that there is a third basis alongside `X` and `Z`. As you could probably guess, it's called `Y`. It is also fully functional, and is even used in the case where `prepare()` is not called to provide an initial state that is random for both `X` and `Z`. So this object should really be called `three_bit`. But it's not, because everyone always ignores poor `Y`."
   ]
  }
 ],
 "metadata": {
  "kernelspec": {
   "display_name": "Python 3",
   "language": "python",
   "name": "python3"
  },
  "language_info": {
   "codemirror_mode": {
    "name": "ipython",
    "version": 3
   },
   "file_extension": ".py",
   "mimetype": "text/x-python",
   "name": "python",
   "nbconvert_exporter": "python",
   "pygments_lexer": "ipython3",
   "version": "3.7.0"
  }
 },
 "nbformat": 4,
 "nbformat_minor": 2
}
