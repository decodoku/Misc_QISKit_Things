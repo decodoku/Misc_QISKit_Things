{
 "cells": [
  {
   "cell_type": "code",
   "execution_count": 1,
   "metadata": {},
   "outputs": [],
   "source": [
    "from qiskit import QuantumRegister, ClassicalRegister\n",
    "from qiskit import QuantumCircuit, compile, IBMQ\n",
    "IBMQ.load_accounts()"
   ]
  },
  {
   "cell_type": "markdown",
   "metadata": {},
   "source": [
    "Let's look at the coupling map of melbourne and find five qubits in a line."
   ]
  },
  {
   "cell_type": "code",
   "execution_count": 2,
   "metadata": {},
   "outputs": [
    {
     "data": {
      "text/plain": [
       "[[1, 0],\n",
       " [1, 2],\n",
       " [2, 3],\n",
       " [4, 3],\n",
       " [4, 10],\n",
       " [5, 4],\n",
       " [5, 6],\n",
       " [5, 9],\n",
       " [6, 8],\n",
       " [7, 8],\n",
       " [9, 8],\n",
       " [9, 10],\n",
       " [11, 3],\n",
       " [11, 10],\n",
       " [11, 12],\n",
       " [12, 2],\n",
       " [13, 1],\n",
       " [13, 12]]"
      ]
     },
     "execution_count": 2,
     "metadata": {},
     "output_type": "execute_result"
    }
   ],
   "source": [
    "backend=IBMQ.get_backend('ibmq_16_melbourne')\n",
    "backend.configuration().coupling_map"
   ]
  },
  {
   "cell_type": "markdown",
   "metadata": {},
   "source": [
    "Looks like 0-1-2-3-4 will work. Now we make a circuit using only two qubit gates between neighbouring pairs on this line."
   ]
  },
  {
   "cell_type": "code",
   "execution_count": 3,
   "metadata": {},
   "outputs": [],
   "source": [
    "q = QuantumRegister(14)\n",
    "c = ClassicalRegister(5)\n",
    "qc = QuantumCircuit(q, c)\n",
    "\n",
    "qc.cx(q[0],q[1])\n",
    "qc.cx(q[2],q[3])\n",
    "qc.cx(q[2],q[1])\n",
    "qc.cx(q[4],q[3])\n",
    "\n",
    "for j in range(5):\n",
    "    qc.measure(q[j],c[j])\n",
    "\n",
    "qobj = compile(qc,backend)"
   ]
  },
  {
   "cell_type": "markdown",
   "metadata": {},
   "source": [
    "There was no need for the compiler to add any addition cnots. So let's see if the compiled circuit only has the four cnots we want."
   ]
  },
  {
   "cell_type": "code",
   "execution_count": 4,
   "metadata": {},
   "outputs": [
    {
     "data": {
      "text/plain": [
       "10"
      ]
     },
     "execution_count": 4,
     "metadata": {},
     "output_type": "execute_result"
    }
   ],
   "source": [
    "qobj.as_dict()['experiments'][0]['header']['compiled_circuit_qasm'].count('cx')"
   ]
  },
  {
   "cell_type": "markdown",
   "metadata": {},
   "source": [
    "It has more. But why?"
   ]
  },
  {
   "cell_type": "code",
   "execution_count": null,
   "metadata": {},
   "outputs": [],
   "source": []
  }
 ],
 "metadata": {
  "kernelspec": {
   "display_name": "Python 3",
   "language": "python",
   "name": "python3"
  },
  "language_info": {
   "codemirror_mode": {
    "name": "ipython",
    "version": 3
   },
   "file_extension": ".py",
   "mimetype": "text/x-python",
   "name": "python",
   "nbconvert_exporter": "python",
   "pygments_lexer": "ipython3",
   "version": "3.7.0"
  }
 },
 "nbformat": 4,
 "nbformat_minor": 2
}
