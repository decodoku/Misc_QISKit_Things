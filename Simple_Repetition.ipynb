{
 "cells": [
  {
   "cell_type": "code",
   "execution_count": 1,
   "metadata": {},
   "outputs": [],
   "source": [
    "from qiskit import QuantumProgram\n",
    "from IBMQuantumExperience import IBMQuantumExperience\n",
    "import Qconfig\n",
    "api = IBMQuantumExperience(Qconfig.APItoken, {'url':Qconfig.config[\"url\"]})\n",
    "from qiskit.backends import discover_remote_backends\n",
    "remote_backends = discover_remote_backends(api)"
   ]
  },
  {
   "cell_type": "markdown",
   "metadata": {},
   "source": [
    "The following defines and runs an implementation of the $d=8$ repetition code with a stored `0`."
   ]
  },
  {
   "cell_type": "code",
   "execution_count": 2,
   "metadata": {
    "collapsed": true
   },
   "outputs": [],
   "source": [
    "num = 16\n",
    "device = 'ibmqx5'\n",
    "shots = 8192"
   ]
  },
  {
   "cell_type": "code",
   "execution_count": 3,
   "metadata": {},
   "outputs": [
    {
     "data": {
      "text/plain": [
       "<qiskit._result.Result at 0x7f7f73047128>"
      ]
     },
     "execution_count": 3,
     "metadata": {},
     "output_type": "execute_result"
    }
   ],
   "source": [
    "Q_program = QuantumProgram()\n",
    "# declare register of qubits\n",
    "q = Q_program.create_quantum_register(\"q\", num)\n",
    "# declare register of classical bits to hold measurement results\n",
    "c = Q_program.create_classical_register(\"c\", num)\n",
    "# create circuit\n",
    "repetitionScript = Q_program.create_circuit(\"repetitionScript\", [q], [c])  \n",
    "\n",
    "repetitionScript.barrier()\n",
    "\n",
    "repetitionScript.cx(q[15],q[14])\n",
    "repetitionScript.cx(q[11],q[10])\n",
    "repetitionScript.cx(q[9],q[8])\n",
    "repetitionScript.cx(q[5],q[4])\n",
    "repetitionScript.cx(q[1],q[0])\n",
    "repetitionScript.h(q[13])\n",
    "repetitionScript.h(q[12])\n",
    "repetitionScript.cx(q[12],q[13])\n",
    "repetitionScript.h(q[12])\n",
    "repetitionScript.h(q[13])\n",
    "repetitionScript.h(q[3])\n",
    "repetitionScript.h(q[2])\n",
    "repetitionScript.cx(q[2],q[3])\n",
    "repetitionScript.h(q[2])\n",
    "repetitionScript.h(q[3])\n",
    "\n",
    "repetitionScript.barrier()\n",
    "\n",
    "repetitionScript.cx(q[13],q[14])\n",
    "repetitionScript.cx(q[9],q[10])\n",
    "repetitionScript.cx(q[3],q[4])\n",
    "repetitionScript.cx(q[1],q[2])\n",
    "repetitionScript.cx(q[15],q[0])\n",
    "repetitionScript.h(q[12])\n",
    "repetitionScript.h(q[11])\n",
    "repetitionScript.cx(q[12],q[11])\n",
    "repetitionScript.h(q[11])\n",
    "repetitionScript.h(q[12])\n",
    "repetitionScript.h(q[8])\n",
    "repetitionScript.h(q[7])\n",
    "repetitionScript.cx(q[8],q[7])\n",
    "repetitionScript.h(q[7])\n",
    "repetitionScript.h(q[8])\n",
    "\n",
    "repetitionScript.barrier()\n",
    "\n",
    "for address in range(num):\n",
    "    repetitionScript.measure(q[address], c[address])\n",
    "\n",
    "Q_program.execute([\"repetitionScript\"], backend=device, shots = shots, max_credits = 5, timeout=1)  "
   ]
  },
  {
   "cell_type": "markdown",
   "metadata": {},
   "source": [
    "We'll now get the results, assuming that this was the last job to run. The full info will be printed to screen as a record, but the actual results will also go on to be processed in the cells after."
   ]
  },
  {
   "cell_type": "code",
   "execution_count": 8,
   "metadata": {
    "scrolled": false
   },
   "outputs": [
    {
     "name": "stdout",
     "output_type": "stream",
     "text": [
      "\n",
      "*id*\n",
      "\n",
      "e2baaa5dca050780c5144d61c8d0780c\n",
      "\n",
      "*creationDate*\n",
      "\n",
      "2018-04-30T14:13:27.775Z\n",
      "\n",
      "*qasm*\n",
      "\n",
      " \n",
      "include \"qelib1.inc\";\n",
      "qreg q[16];\n",
      "creg c[16];\n",
      "barrier q[0],q[1],q[2],q[3],q[4],q[5],q[6],q[7],q[8],q[9],q[10],q[11],q[12],q[13],q[14],q[15];\n",
      "cx q[15],q[14];\n",
      "u2(0,3.14159265358979) q[13];\n",
      "u2(0,3.14159265358979) q[12];\n",
      "cx q[11],q[10];\n",
      "cx q[9],q[8];\n",
      "cx q[5],q[4];\n",
      "u2(0,3.14159265358979) q[3];\n",
      "u2(0,3.14159265358979) q[2];\n",
      "cx q[1],q[0];\n",
      "cx q[12],q[13];\n",
      "cx q[2],q[3];\n",
      "u2(0,3.14159265358979) q[13];\n",
      "u2(0,3.14159265358979) q[12];\n",
      "u2(0,3.14159265358979) q[3];\n",
      "u2(0,3.14159265358979) q[2];\n",
      "barrier q[0],q[1],q[2],q[3],q[4],q[5],q[6],q[7],q[8],q[9],q[10],q[11],q[12],q[13],q[14],q[15];\n",
      "cx q[13],q[14];\n",
      "u2(0,3.14159265358979) q[12];\n",
      "u2(0,3.14159265358979) q[11];\n",
      "cx q[9],q[10];\n",
      "u2(0,3.14159265358979) q[8];\n",
      "u2(0,3.14159265358979) q[7];\n",
      "cx q[3],q[4];\n",
      "cx q[1],q[2];\n",
      "cx q[15],q[0];\n",
      "cx q[12],q[11];\n",
      "cx q[8],q[7];\n",
      "u2(0,3.14159265358979) q[12];\n",
      "u2(0,3.14159265358979) q[11];\n",
      "u2(0,3.14159265358979) q[8];\n",
      "u2(0,3.14159265358979) q[7];\n",
      "barrier q[0],q[1],q[2],q[3],q[4],q[5],q[6],q[7],q[8],q[9],q[10],q[11],q[12],q[13],q[14],q[15];\n",
      "measure q[15] -> c[15];\n",
      "measure q[14] -> c[14];\n",
      "measure q[13] -> c[13];\n",
      "measure q[12] -> c[12];\n",
      "measure q[11] -> c[11];\n",
      "measure q[10] -> c[10];\n",
      "measure q[9] -> c[9];\n",
      "measure q[8] -> c[8];\n",
      "measure q[7] -> c[7];\n",
      "measure q[6] -> c[6];\n",
      "measure q[5] -> c[5];\n",
      "measure q[4] -> c[4];\n",
      "measure q[3] -> c[3];\n",
      "measure q[2] -> c[2];\n",
      "measure q[1] -> c[1];\n",
      "measure q[0] -> c[0];\n",
      "\n",
      "\n",
      "*status*\n",
      "\n",
      " WORKING_IN_PROGRESS\n",
      "\n",
      "*executionId*\n",
      "\n",
      " afb8d1fd3594da4431d69d5d2e9654ba\n",
      "dict_keys(['qasms', 'shots', 'backend', 'status', 'maxCredits', 'usedCredits', 'creationDate', 'deleted', 'id', 'userId'])\n"
     ]
    },
    {
     "ename": "KeyError",
     "evalue": "'result'",
     "output_type": "error",
     "traceback": [
      "\u001b[0;31m---------------------------------------------------------------------------\u001b[0m",
      "\u001b[0;31mKeyError\u001b[0m                                  Traceback (most recent call last)",
      "\u001b[0;32m<ipython-input-8-b36112404200>\u001b[0m in \u001b[0;36m<module>\u001b[0;34m()\u001b[0m\n\u001b[1;32m      9\u001b[0m \u001b[0mprint\u001b[0m\u001b[0;34m(\u001b[0m\u001b[0mfull_info\u001b[0m\u001b[0;34m.\u001b[0m\u001b[0mkeys\u001b[0m\u001b[0;34m(\u001b[0m\u001b[0;34m)\u001b[0m\u001b[0;34m)\u001b[0m\u001b[0;34m\u001b[0m\u001b[0m\n\u001b[1;32m     10\u001b[0m \u001b[0;34m\u001b[0m\u001b[0m\n\u001b[0;32m---> 11\u001b[0;31m \u001b[0mresults\u001b[0m \u001b[0;34m=\u001b[0m \u001b[0mfull_info\u001b[0m\u001b[0;34m[\u001b[0m\u001b[0;34m'qasms'\u001b[0m\u001b[0;34m]\u001b[0m\u001b[0;34m[\u001b[0m\u001b[0;36m0\u001b[0m\u001b[0;34m]\u001b[0m\u001b[0;34m[\u001b[0m\u001b[0;34m'result'\u001b[0m\u001b[0;34m]\u001b[0m\u001b[0;34m[\u001b[0m\u001b[0;34m'data'\u001b[0m\u001b[0;34m]\u001b[0m\u001b[0;34m[\u001b[0m\u001b[0;34m'counts'\u001b[0m\u001b[0;34m]\u001b[0m\u001b[0;34m\u001b[0m\u001b[0m\n\u001b[0m",
      "\u001b[0;31mKeyError\u001b[0m: 'result'"
     ]
    }
   ],
   "source": [
    "full_info = api.get_jobs(limit=5)[0]\n",
    "\n",
    "for key in ['id','creationDate']:\n",
    "    print( \"\\n*\"+str(key)+\"*\\n\\n\"+full_info[key] )\n",
    "\n",
    "for key in full_info['qasms'][0]:\n",
    "        print(\"\\n*\"+key+\"*\\n\\n\", full_info['qasms'][0][key] )\n",
    "    \n",
    "print(full_info.keys())\n",
    "\n",
    "results = full_info['qasms'][0]['result']['data']['counts']"
   ]
  },
  {
   "cell_type": "markdown",
   "metadata": {},
   "source": [
    "The probability that each qubit is output with value `1` is determined and printed. The [standard qubit numbering](https://github.com/QISKit/ibmqx-backend-information/blob/master/backends/ibmqx5/README.md) is used. To flag up the higher probabilities, they are printed further toward the right."
   ]
  },
  {
   "cell_type": "code",
   "execution_count": 7,
   "metadata": {},
   "outputs": [
    {
     "name": "stdout",
     "output_type": "stream",
     "text": [
      "0   0.156982421875\n",
      "1    0.254150390625\n",
      "2 0.06494140625\n",
      "3           0.6864013671875\n",
      "4           0.69921875\n",
      "5      0.372314453125\n",
      "6  0.1251220703125\n",
      "7        0.4896240234375\n",
      "8   0.1357421875\n",
      "9 0.027587890625\n",
      "10 0.0498046875\n",
      "11  0.1270751953125\n",
      "12  0.127197265625\n",
      "13    0.2086181640625\n",
      "14   0.168212890625\n",
      "15           0.7301025390625\n"
     ]
    }
   ],
   "source": [
    "p = [0]*num\n",
    "for qubit in range(num):\n",
    "    for string in results.keys():\n",
    "        if string[qubit]=='1':\n",
    "            p[qubit] += results[string]/shots\n",
    "            \n",
    "    print(qubit, \" \"*int(15*p[qubit]) + str(p[qubit]) )"
   ]
  },
  {
   "cell_type": "code",
   "execution_count": null,
   "metadata": {
    "collapsed": true
   },
   "outputs": [],
   "source": []
  }
 ],
 "metadata": {
  "kernelspec": {
   "display_name": "Python 3",
   "language": "python",
   "name": "python3"
  },
  "language_info": {
   "codemirror_mode": {
    "name": "ipython",
    "version": 3
   },
   "file_extension": ".py",
   "mimetype": "text/x-python",
   "name": "python",
   "nbconvert_exporter": "python",
   "pygments_lexer": "ipython3",
   "version": "3.6.0"
  }
 },
 "nbformat": 4,
 "nbformat_minor": 2
}
