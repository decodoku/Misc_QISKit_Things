{
 "cells": [
  {
   "cell_type": "markdown",
   "metadata": {},
   "source": [
    "I want to be able to analyse a circuit and insert gates into it depending on what I find. What is the best way to do this in Qiskit?\n",
    "\n",
    "Here's a simple problem to illustrate."
   ]
  },
  {
   "cell_type": "markdown",
   "metadata": {},
   "source": [
    "Bobe gave Alice the job of making a quantum circuit in Qiskit for a Bell pair. Specifically, he wants the state \n",
    "\n",
    "$$\\frac{|01\\rangle + |10\\rangle)}{\\sqrt{2}}.$$\n",
    "\n",
    "Here's what she does."
   ]
  },
  {
   "cell_type": "code",
   "execution_count": 1,
   "metadata": {},
   "outputs": [
    {
     "data": {
      "text/plain": [
       "<qiskit.circuit.instructionset.InstructionSet at 0x10e679080>"
      ]
     },
     "execution_count": 1,
     "metadata": {},
     "output_type": "execute_result"
    }
   ],
   "source": [
    "from qiskit import QuantumRegister, ClassicalRegister\n",
    "from qiskit import QuantumCircuit, Aer, execute, compile\n",
    "\n",
    "q = QuantumRegister(2,'qubit')\n",
    "c = ClassicalRegister(2,'bit')\n",
    "qc = QuantumCircuit(q, c)\n",
    "\n",
    "qc.x(q[1])\n",
    "qc.cx(q[0], q[1])\n",
    "qc.measure(q, c)"
   ]
  },
  {
   "cell_type": "markdown",
   "metadata": {},
   "source": [
    "She delivers the finished circuit to Bob, who then runs it."
   ]
  },
  {
   "cell_type": "code",
   "execution_count": 2,
   "metadata": {},
   "outputs": [
    {
     "name": "stdout",
     "output_type": "stream",
     "text": [
      "{'10': 1024}\n"
     ]
    }
   ],
   "source": [
    "backend = Aer.get_backend('qasm_simulator')\n",
    "job_sim = execute(qc, backend)\n",
    "sim_result = job_sim.result()\n",
    "\n",
    "print(sim_result.get_counts(qc))"
   ]
  },
  {
   "cell_type": "markdown",
   "metadata": {},
   "source": [
    "That's not a Bell pair! Something is not right.\n",
    "\n",
    "To see what went wrong, Bob inspects the data attribute of the circuit."
   ]
  },
  {
   "cell_type": "code",
   "execution_count": 3,
   "metadata": {},
   "outputs": [
    {
     "data": {
      "text/plain": [
       "[<qiskit.extensions.standard.x.XGate at 0x10414cdd8>,\n",
       " <qiskit.extensions.standard.cx.CnotGate at 0x10414ccf8>,\n",
       " <qiskit.circuit.measure.Measure at 0x10e6791d0>,\n",
       " <qiskit.circuit.measure.Measure at 0x10e6790b8>]"
      ]
     },
     "execution_count": 3,
     "metadata": {},
     "output_type": "execute_result"
    }
   ],
   "source": [
    "qc.data"
   ]
  },
  {
   "cell_type": "markdown",
   "metadata": {},
   "source": [
    "There's no Hadamard! Alice forgot the Hadamard!\n",
    "\n",
    "To insert it himself, Bob first needs to work out which qubit was the control. He does that by accessing the second element of the above list (the CNOT gate), and then finding the first qubit listed under the `qargs` attribute of the gate."
   ]
  },
  {
   "cell_type": "code",
   "execution_count": 4,
   "metadata": {},
   "outputs": [
    {
     "name": "stdout",
     "output_type": "stream",
     "text": [
      "(QuantumRegister(2, 'qubit'), 0)\n"
     ]
    }
   ],
   "source": [
    "print(qc.data[1].qargs[0])\n",
    "qreg, index = qc.data[1].qargs[0]"
   ]
  },
  {
   "cell_type": "markdown",
   "metadata": {},
   "source": [
    "Now he just needs to insert the Hadamard acting on this qubit into the circuit.\n",
    "\n",
    "**What is the best method to do this?**\n",
    "\n",
    "Bob tries the following hack. First, make a new circuit using the required register."
   ]
  },
  {
   "cell_type": "code",
   "execution_count": 5,
   "metadata": {},
   "outputs": [],
   "source": [
    "qc_temp = QuantumCircuit(qreg)"
   ]
  },
  {
   "cell_type": "markdown",
   "metadata": {},
   "source": [
    "Then create the required gate on the required qubit with this."
   ]
  },
  {
   "cell_type": "code",
   "execution_count": 6,
   "metadata": {},
   "outputs": [],
   "source": [
    "h = qc_temp.h( qreg[ index ] )"
   ]
  },
  {
   "cell_type": "markdown",
   "metadata": {},
   "source": [
    "Now he can insert this into the list of gates as expressed by `qc.data`."
   ]
  },
  {
   "cell_type": "code",
   "execution_count": 7,
   "metadata": {},
   "outputs": [],
   "source": [
    "qc.data.insert(1,h)"
   ]
  },
  {
   "cell_type": "code",
   "execution_count": 8,
   "metadata": {},
   "outputs": [
    {
     "name": "stdout",
     "output_type": "stream",
     "text": [
      "                 ┌───┐        ┌─┐\n",
      "qubit_0: |0>─────┤ H ├──■─────┤M├\n",
      "            ┌───┐└───┘┌─┴─┐┌─┐└╥┘\n",
      "qubit_1: |0>┤ X ├─────┤ X ├┤M├─╫─\n",
      "            └───┘     └───┘└╥┘ ║ \n",
      "   bit_0: 0 ════════════════╬══╩═\n",
      "                            ║    \n",
      "   bit_1: 0 ════════════════╩════\n",
      "                                 \n"
     ]
    }
   ],
   "source": [
    "print(qc)"
   ]
  },
  {
   "cell_type": "markdown",
   "metadata": {},
   "source": [
    "It works, but creating a circuit just to create a gate seems like an overly complex way to do something simple."
   ]
  }
 ],
 "metadata": {
  "kernelspec": {
   "display_name": "Python 3",
   "language": "python",
   "name": "python3"
  },
  "language_info": {
   "codemirror_mode": {
    "name": "ipython",
    "version": 3
   },
   "file_extension": ".py",
   "mimetype": "text/x-python",
   "name": "python",
   "nbconvert_exporter": "python",
   "pygments_lexer": "ipython3",
   "version": "3.7.0"
  }
 },
 "nbformat": 4,
 "nbformat_minor": 2
}
