{
 "cells": [
  {
   "cell_type": "code",
   "execution_count": 1,
   "metadata": {
    "collapsed": false
   },
   "outputs": [],
   "source": [
    "from qiskit import ClassicalRegister, QuantumRegister\n",
    "from qiskit import QuantumCircuit, execute\n",
    "from qiskit import register, available_backends, get_backend\n",
    "\n",
    "#import Qconfig and set APIToken and API url\n",
    "import sys\n",
    "sys.path.append(\"../../\") # go to parent dir\n",
    "import Qconfig\n",
    "qx_config = {\n",
    "    \"APItoken\": Qconfig.APItoken,\n",
    "    \"url\": Qconfig.config['url']}\n",
    "\n",
    "#set api\n",
    "register(qx_config['APItoken'], qx_config['url'])"
   ]
  },
  {
   "cell_type": "markdown",
   "metadata": {},
   "source": [
    "The following defines and runs an implementation of the $d=8$ repetition code with a stored `0`."
   ]
  },
  {
   "cell_type": "code",
   "execution_count": 2,
   "metadata": {
    "collapsed": true
   },
   "outputs": [],
   "source": [
    "num = 16\n",
    "device = 'ibmqx5'\n",
    "shots = 8192"
   ]
  },
  {
   "cell_type": "code",
   "execution_count": 3,
   "metadata": {
    "collapsed": false
   },
   "outputs": [
    {
     "name": "stdout",
     "output_type": "stream",
     "text": [
      "Status of ibmqx5: {'available': True, 'pending_jobs': 33, 'name': 'ibmqx5'}\n"
     ]
    }
   ],
   "source": [
    "script = []\n",
    "for test in range(3):\n",
    "    \n",
    "    q = QuantumRegister(num)\n",
    "    c = ClassicalRegister(num)\n",
    "    script.append( QuantumCircuit(q, c) )\n",
    "\n",
    "    script[test].barrier()\n",
    "\n",
    "    script[test].cx(q[6],q[5])\n",
    "    script[test].h(q[4])\n",
    "    script[test].h(q[3])\n",
    "    script[test].cx(q[3],q[4])\n",
    "    script[test].h(q[4])\n",
    "    script[test].h(q[3])\n",
    "    if test in [1,2]:\n",
    "        script[test].h(q[2])\n",
    "        script[test].h(q[1])\n",
    "        script[test].cx(q[1],q[2])\n",
    "        script[test].h(q[2])\n",
    "        script[test].h(q[1])\n",
    "    if test in [2]:\n",
    "        script[test].h(q[0])\n",
    "        script[test].h(q[15])\n",
    "        script[test].cx(q[15],q[0])\n",
    "        script[test].h(q[0])\n",
    "        script[test].h(q[15])\n",
    "\n",
    "    script[test].barrier()\n",
    "    \n",
    "    script[test].h(q[4])\n",
    "    script[test].h(q[5])\n",
    "    script[test].cx(q[5],q[4])\n",
    "    script[test].h(q[4])\n",
    "    script[test].h(q[5])\n",
    "    script[test].cx(q[2],q[3])\n",
    "    if test in [1,2]:\n",
    "        script[test].h(q[0])\n",
    "        script[test].h(q[1])\n",
    "        script[test].cx(q[1],q[0])\n",
    "        script[test].h(q[0])\n",
    "        script[test].h(q[1])\n",
    "    if test in [2]:\n",
    "        script[test].h(q[14])\n",
    "        script[test].h(q[15])\n",
    "        script[test].cx(q[15],q[14])\n",
    "        script[test].h(q[14])\n",
    "        script[test].h(q[15])\n",
    "\n",
    "    script[test].barrier()\n",
    "\n",
    "    for address in range(num):\n",
    "        script[test].measure(q[address], c[address])\n",
    "\n",
    "backend = get_backend(device)\n",
    "print('Status of '+device+':',backend.status)\n",
    "        \n",
    "job = execute(script, backend, shots=shots, skip_translation=True)"
   ]
  },
  {
   "cell_type": "code",
   "execution_count": 4,
   "metadata": {
    "collapsed": true
   },
   "outputs": [],
   "source": [
    "results = []\n",
    "for test in range(3):\n",
    "    results.append( job.result().get_counts(script[test]) )"
   ]
  },
  {
   "cell_type": "markdown",
   "metadata": {},
   "source": [
    "The probability that each qubit is output with value `1` is determined and printed. The [standard qubit numbering](https://github.com/QISKit/ibmqx-backend-information/blob/master/backends/ibmqx5/README.md) is used. To flag up the higher probabilities, they are printed further toward the right."
   ]
  },
  {
   "cell_type": "code",
   "execution_count": 5,
   "metadata": {
    "collapsed": false
   },
   "outputs": [
    {
     "name": "stdout",
     "output_type": "stream",
     "text": [
      "\n",
      "Results for d=3 repetition code on qubits q1 to q6\n",
      "\n",
      "Q0   0.0145263671875\n",
      "Q1   0.0118408203125\n",
      "Q2   0.0552978515625\n",
      "Q3    0.087646484375\n",
      "Q4   0.06494140625\n",
      "Q5   0.0606689453125\n",
      "Q6   0.0301513671875\n",
      "Q7   0.00146484375\n",
      "Q8   0.003662109375\n",
      "Q9    0.1021728515625\n",
      "Q10  0.052978515625\n",
      "Q11  0.0140380859375\n",
      "Q12   0.0946044921875\n",
      "Q13  0.0052490234375\n",
      "Q14  0.042236328125\n",
      "Q15  0.0177001953125\n",
      "\n",
      "Results for d=4 repetition code on qubits q0 to q6\n",
      "\n",
      "Q0   0.0338134765625\n",
      "Q1          0.4747314453125\n",
      "Q2   0.0560302734375\n",
      "Q3    0.095703125\n",
      "Q4    0.07177734375\n",
      "Q5    0.0684814453125\n",
      "Q6   0.0302734375\n",
      "Q7   0.0008544921875\n",
      "Q8   0.0020751953125\n",
      "Q9    0.1234130859375\n",
      "Q10  0.049072265625\n",
      "Q11  0.0133056640625\n",
      "Q12   0.0870361328125\n",
      "Q13  0.0076904296875\n",
      "Q14  0.0400390625\n",
      "Q15  0.0179443359375\n",
      "\n",
      "Results for d=5 repetition code on qubits q0 to q6, q14 and q15\n",
      "\n",
      "Q0   0.052001953125\n",
      "Q1          0.48046875\n",
      "Q2   0.055908203125\n",
      "Q3    0.1099853515625\n",
      "Q4    0.0772705078125\n",
      "Q5   0.064697265625\n",
      "Q6   0.0283203125\n",
      "Q7   0.01171875\n",
      "Q8   0.0030517578125\n",
      "Q9    0.1175537109375\n",
      "Q10  0.0552978515625\n",
      "Q11  0.0167236328125\n",
      "Q12   0.083984375\n",
      "Q13  0.008544921875\n",
      "Q14  0.0543212890625\n",
      "Q15  0.065185546875\n"
     ]
    }
   ],
   "source": [
    "for test in range(3):\n",
    "    if test==0:\n",
    "        print(\"\\nResults for d=3 repetition code on qubits q1 to q6\\n\")\n",
    "    elif test==1:\n",
    "        print(\"\\nResults for d=4 repetition code on qubits q0 to q6\\n\")\n",
    "    else:\n",
    "        print(\"\\nResults for d=5 repetition code on qubits q0 to q6, q14 and q15\\n\")\n",
    "    \n",
    "    p = [0]*num\n",
    "    for qubit in range(num):\n",
    "        for string in results[test].keys():\n",
    "            if string[num-1-qubit]=='1':\n",
    "                p[qubit] += results[test][string]/shots\n",
    "\n",
    "        print( \"Q\" + str(qubit) + \" \"*(qubit<10) + \"  \" + \" \"*int(15*p[qubit]) + str(p[qubit]) )"
   ]
  },
  {
   "cell_type": "code",
   "execution_count": null,
   "metadata": {
    "collapsed": true
   },
   "outputs": [],
   "source": []
  }
 ],
 "metadata": {
  "kernelspec": {
   "display_name": "Python 3",
   "language": "python",
   "name": "python3"
  },
  "language_info": {
   "codemirror_mode": {
    "name": "ipython",
    "version": 3
   },
   "file_extension": ".py",
   "mimetype": "text/x-python",
   "name": "python",
   "nbconvert_exporter": "python",
   "pygments_lexer": "ipython3",
   "version": "3.6.0"
  }
 },
 "nbformat": 4,
 "nbformat_minor": 2
}
