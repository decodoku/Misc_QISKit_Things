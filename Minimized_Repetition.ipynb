{
 "cells": [
  {
   "cell_type": "markdown",
   "metadata": {},
   "source": [
    "Set stuff up"
   ]
  },
  {
   "cell_type": "code",
   "execution_count": 1,
   "metadata": {
    "collapsed": false
   },
   "outputs": [],
   "source": [
    "from qiskit import ClassicalRegister, QuantumRegister\n",
    "from qiskit import QuantumCircuit, execute\n",
    "from qiskit import register, available_backends, get_backend\n",
    "\n",
    "#import Qconfig and set APIToken and API url\n",
    "import sys\n",
    "sys.path.append(\"../../\") # go to parent dir\n",
    "import Qconfig\n",
    "qx_config = {\n",
    "    \"APItoken\": Qconfig.APItoken,\n",
    "    \"url\": Qconfig.config['url']}\n",
    "\n",
    "#set api\n",
    "register(qx_config['APItoken'], qx_config['url'])"
   ]
  },
  {
   "cell_type": "code",
   "execution_count": 2,
   "metadata": {
    "collapsed": true
   },
   "outputs": [],
   "source": [
    "num = 16\n",
    "device = 'ibmqx5'\n",
    "shots = 8192"
   ]
  },
  {
   "cell_type": "markdown",
   "metadata": {},
   "source": [
    "Define and the circuit and get it to run 10 times."
   ]
  },
  {
   "cell_type": "code",
   "execution_count": 3,
   "metadata": {
    "collapsed": false
   },
   "outputs": [
    {
     "name": "stdout",
     "output_type": "stream",
     "text": [
      "Status of ibmqx5: {'available': True, 'pending_jobs': 8, 'name': 'ibmqx5'}\n"
     ]
    }
   ],
   "source": [
    "script = []\n",
    "for test in range(10):\n",
    "    \n",
    "    q = QuantumRegister(num)\n",
    "    c = ClassicalRegister(num)\n",
    "    script.append( QuantumCircuit(q, c) )\n",
    "    \n",
    "    script[test].cx(q[5],q[4])\n",
    "    script[test].cx(q[2],q[3])\n",
    "    script[test].cx(q[1],q[0])\n",
    "\n",
    "    for address in range(num):\n",
    "        script[test].measure(q[address], c[address])\n",
    "\n",
    "backend = get_backend(device)\n",
    "print('Status of '+device+':',backend.status)\n",
    "        \n",
    "job = execute(script, backend, shots=shots, skip_translation=True)"
   ]
  },
  {
   "cell_type": "markdown",
   "metadata": {},
   "source": [
    "Get the results out."
   ]
  },
  {
   "cell_type": "code",
   "execution_count": 4,
   "metadata": {
    "collapsed": false
   },
   "outputs": [],
   "source": [
    "results = []\n",
    "for test in range(10):\n",
    "    results.append( job.result().get_counts(script[test]) )"
   ]
  },
  {
   "cell_type": "markdown",
   "metadata": {},
   "source": [
    "Print the results for each qubit in each run. We print the fraction of shots for with each qubit outputs 1. To emphasize high values, they are printed further to the right."
   ]
  },
  {
   "cell_type": "code",
   "execution_count": 11,
   "metadata": {
    "collapsed": false,
    "scrolled": false
   },
   "outputs": [
    {
     "name": "stdout",
     "output_type": "stream",
     "text": [
      "\n",
      "Results for run number 1\n",
      "\n",
      "Q0                0.87841796875\n",
      "Q1   0.027587890625\n",
      "Q2     0.13427734375\n",
      "Q3    0.081298828125\n",
      "Q4   0.05322265625\n",
      "Q5   0.022216796875\n",
      "Q6   0.0152587890625\n",
      "Q7   0.0015869140625\n",
      "Q8   0.00341796875\n",
      "Q9    0.0921630859375\n",
      "Q10  0.04638671875\n",
      "Q11  0.0152587890625\n",
      "Q12   0.0859375\n",
      "Q13  0.0255126953125\n",
      "Q14   0.10009765625\n",
      "Q15  0.0142822265625\n",
      "\n",
      "Results for run number 2\n",
      "\n",
      "Q0                0.8748779296875\n",
      "Q1   0.0257568359375\n",
      "Q2     0.14892578125\n",
      "Q3    0.0885009765625\n",
      "Q4   0.055908203125\n",
      "Q5   0.0206298828125\n",
      "Q6   0.0162353515625\n",
      "Q7   0.0013427734375\n",
      "Q8   0.0032958984375\n",
      "Q9    0.0943603515625\n",
      "Q10  0.044189453125\n",
      "Q11  0.015869140625\n",
      "Q12   0.09326171875\n",
      "Q13  0.0250244140625\n",
      "Q14   0.10205078125\n",
      "Q15  0.015380859375\n",
      "\n",
      "Results for run number 3\n",
      "\n",
      "Q0                0.8780517578125\n",
      "Q1   0.0247802734375\n",
      "Q2     0.140869140625\n",
      "Q3    0.0863037109375\n",
      "Q4   0.053955078125\n",
      "Q5   0.021728515625\n",
      "Q6   0.017333984375\n",
      "Q7   0.0013427734375\n",
      "Q8   0.0028076171875\n",
      "Q9    0.09765625\n",
      "Q10  0.049560546875\n",
      "Q11  0.016357421875\n",
      "Q12   0.088134765625\n",
      "Q13  0.025390625\n",
      "Q14   0.1044921875\n",
      "Q15  0.014404296875\n",
      "\n",
      "Results for run number 4\n",
      "\n",
      "Q0                0.8819580078125\n",
      "Q1   0.0252685546875\n",
      "Q2     0.1414794921875\n",
      "Q3    0.08447265625\n",
      "Q4   0.0577392578125\n",
      "Q5   0.0242919921875\n",
      "Q6   0.0123291015625\n",
      "Q7   0.0018310546875\n",
      "Q8   0.0030517578125\n",
      "Q9    0.090576171875\n",
      "Q10  0.045654296875\n",
      "Q11  0.0146484375\n",
      "Q12   0.083251953125\n",
      "Q13  0.0230712890625\n",
      "Q14   0.10107421875\n",
      "Q15  0.011962890625\n",
      "\n",
      "Results for run number 5\n",
      "\n",
      "Q0                0.8765869140625\n",
      "Q1   0.02685546875\n",
      "Q2     0.1383056640625\n",
      "Q3    0.0821533203125\n",
      "Q4   0.057373046875\n",
      "Q5   0.02294921875\n",
      "Q6   0.017333984375\n",
      "Q7   0.001708984375\n",
      "Q8   0.003662109375\n",
      "Q9    0.0921630859375\n",
      "Q10  0.047607421875\n",
      "Q11  0.015625\n",
      "Q12   0.08056640625\n",
      "Q13  0.0274658203125\n",
      "Q14   0.10107421875\n",
      "Q15  0.0142822265625\n",
      "\n",
      "Results for run number 6\n",
      "\n",
      "Q0                0.8734130859375\n",
      "Q1   0.0279541015625\n",
      "Q2     0.1363525390625\n",
      "Q3    0.075927734375\n",
      "Q4   0.0477294921875\n",
      "Q5   0.0216064453125\n",
      "Q6   0.0145263671875\n",
      "Q7   0.001220703125\n",
      "Q8   0.0029296875\n",
      "Q9    0.0948486328125\n",
      "Q10  0.04638671875\n",
      "Q11  0.015625\n",
      "Q12   0.0919189453125\n",
      "Q13  0.02197265625\n",
      "Q14   0.1025390625\n",
      "Q15  0.015625\n",
      "\n",
      "Results for run number 7\n",
      "\n",
      "Q0                0.8768310546875\n",
      "Q1   0.0245361328125\n",
      "Q2     0.1441650390625\n",
      "Q3    0.0780029296875\n",
      "Q4   0.049072265625\n",
      "Q5   0.0252685546875\n",
      "Q6   0.0166015625\n",
      "Q7   0.0013427734375\n",
      "Q8   0.0030517578125\n",
      "Q9    0.0947265625\n",
      "Q10  0.0518798828125\n",
      "Q11  0.01416015625\n",
      "Q12   0.090087890625\n",
      "Q13  0.02490234375\n",
      "Q14   0.099609375\n",
      "Q15  0.0152587890625\n",
      "\n",
      "Results for run number 8\n",
      "\n",
      "Q0                0.87451171875\n",
      "Q1   0.03173828125\n",
      "Q2     0.1435546875\n",
      "Q3    0.08056640625\n",
      "Q4   0.0526123046875\n",
      "Q5   0.0205078125\n",
      "Q6   0.0174560546875\n",
      "Q7   0.00146484375\n",
      "Q8   0.00341796875\n",
      "Q9    0.094482421875\n",
      "Q10  0.0465087890625\n",
      "Q11  0.0142822265625\n",
      "Q12   0.0853271484375\n",
      "Q13  0.02392578125\n",
      "Q14   0.096923828125\n",
      "Q15  0.0133056640625\n",
      "\n",
      "Results for run number 9\n",
      "\n",
      "Q0                0.88134765625\n",
      "Q1   0.024658203125\n",
      "Q2     0.1376953125\n",
      "Q3    0.0799560546875\n",
      "Q4   0.0545654296875\n",
      "Q5   0.0238037109375\n",
      "Q6   0.016357421875\n",
      "Q7   0.0006103515625\n",
      "Q8   0.003173828125\n",
      "Q9    0.0947265625\n",
      "Q10  0.046630859375\n",
      "Q11  0.0157470703125\n",
      "Q12   0.0875244140625\n",
      "Q13  0.025146484375\n",
      "Q14   0.0987548828125\n",
      "Q15  0.013427734375\n",
      "\n",
      "Results for run number 10\n",
      "\n",
      "Q0                0.8807373046875\n",
      "Q1   0.0269775390625\n",
      "Q2     0.1422119140625\n",
      "Q3    0.081787109375\n",
      "Q4   0.0491943359375\n",
      "Q5   0.02197265625\n",
      "Q6   0.0155029296875\n",
      "Q7   0.001220703125\n",
      "Q8   0.002685546875\n",
      "Q9    0.0941162109375\n",
      "Q10  0.05126953125\n",
      "Q11  0.0145263671875\n",
      "Q12   0.08642578125\n",
      "Q13  0.0252685546875\n",
      "Q14   0.101318359375\n",
      "Q15  0.0140380859375\n"
     ]
    }
   ],
   "source": [
    "for test in range(10):\n",
    "    print(\"\\nResults for run number \"+str(test+1)+\"\\n\")\n",
    "    for qubit in range(num):\n",
    "        p = 0\n",
    "        for string in results[test].keys():\n",
    "            if string[num-1-qubit]=='1':\n",
    "                p += results[test][string]/(shots)\n",
    "\n",
    "        print( \"Q\" + str(qubit) + \" \"*(qubit<10) + \"  \" + \" \"*int(15*p) + str(p) )"
   ]
  }
 ],
 "metadata": {
  "kernelspec": {
   "display_name": "Python 3",
   "language": "python",
   "name": "python3"
  },
  "language_info": {
   "codemirror_mode": {
    "name": "ipython",
    "version": 3
   },
   "file_extension": ".py",
   "mimetype": "text/x-python",
   "name": "python",
   "nbconvert_exporter": "python",
   "pygments_lexer": "ipython3",
   "version": "3.6.0"
  }
 },
 "nbformat": 4,
 "nbformat_minor": 2
}
