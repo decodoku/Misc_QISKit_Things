{
 "cells": [
  {
   "cell_type": "code",
   "execution_count": 1,
   "metadata": {
    "collapsed": false
   },
   "outputs": [],
   "source": [
    "from qiskit import ClassicalRegister, QuantumRegister\n",
    "from qiskit import QuantumCircuit, execute\n",
    "from qiskit import register, available_backends, get_backend\n",
    "\n",
    "#import Qconfig and set APIToken and API url\n",
    "import sys\n",
    "sys.path.append(\"../../\") # go to parent dir\n",
    "import Qconfig\n",
    "qx_config = {\n",
    "    \"APItoken\": Qconfig.APItoken,\n",
    "    \"url\": Qconfig.config['url']}\n",
    "\n",
    "#set api\n",
    "register(qx_config['APItoken'], qx_config['url'])"
   ]
  },
  {
   "cell_type": "code",
   "execution_count": 2,
   "metadata": {
    "collapsed": true
   },
   "outputs": [],
   "source": [
    "num = 16\n",
    "device = 'ibmqx5'\n",
    "shots = 8192"
   ]
  },
  {
   "cell_type": "code",
   "execution_count": 3,
   "metadata": {
    "collapsed": false
   },
   "outputs": [
    {
     "name": "stdout",
     "output_type": "stream",
     "text": [
      "Status of ibmqx5: {'available': True, 'pending_jobs': 8, 'name': 'ibmqx5'}\n"
     ]
    }
   ],
   "source": [
    "script = []\n",
    "for test in range(10):\n",
    "    \n",
    "    q = QuantumRegister(num)\n",
    "    c = ClassicalRegister(num)\n",
    "    script.append( QuantumCircuit(q, c) )\n",
    "    \n",
    "    script[test].cx(q[5],q[4])\n",
    "    script[test].cx(q[2],q[3])\n",
    "    script[test].cx(q[1],q[0])\n",
    "\n",
    "    for address in range(num):\n",
    "        script[test].measure(q[address], c[address])\n",
    "\n",
    "backend = get_backend(device)\n",
    "print('Status of '+device+':',backend.status)\n",
    "        \n",
    "job = execute(script, backend, shots=shots, skip_translation=True)"
   ]
  },
  {
   "cell_type": "code",
   "execution_count": 4,
   "metadata": {
    "collapsed": false
   },
   "outputs": [],
   "source": [
    "results = []\n",
    "for test in range(10):\n",
    "    results.append( job.result().get_counts(script[test]) )"
   ]
  },
  {
   "cell_type": "markdown",
   "metadata": {},
   "source": [
    "The probability that each qubit is output with value `1` is determined and printed. The [standard qubit numbering](https://github.com/QISKit/ibmqx-backend-information/blob/master/backends/ibmqx5/README.md) is used. To flag up the higher probabilities, they are printed further toward the right."
   ]
  },
  {
   "cell_type": "code",
   "execution_count": 5,
   "metadata": {
    "collapsed": false
   },
   "outputs": [
    {
     "name": "stdout",
     "output_type": "stream",
     "text": [
      "Q0                0.8776733398437657\n",
      "Q1   0.026611328124999844\n",
      "Q2     0.14078369140625016\n",
      "Q3    0.08189697265625075\n",
      "Q4   0.053137207031250334\n",
      "Q5   0.022497558593749852\n",
      "Q6   0.01589355468749994\n",
      "Q7   0.0013671874999999982\n",
      "Q8   0.003149414062500003\n",
      "Q9    0.09398193359375093\n",
      "Q10  0.04760742187500028\n",
      "Q11  0.015209960937499954\n",
      "Q12   0.08724365234375077\n",
      "Q13  0.024768066406249862\n",
      "Q14   0.10079345703125092\n",
      "Q15  0.014196777343749951\n"
     ]
    }
   ],
   "source": [
    "p = [0]*num\n",
    "for qubit in range(num):\n",
    "    for test in range(10):\n",
    "        for string in results[test].keys():\n",
    "            if string[num-1-qubit]=='1':\n",
    "                p[qubit] += results[test][string]/(shots*10)\n",
    "\n",
    "    print( \"Q\" + str(qubit) + \" \"*(qubit<10) + \"  \" + \" \"*int(15*p[qubit]) + str(p[qubit]) )"
   ]
  },
  {
   "cell_type": "code",
   "execution_count": null,
   "metadata": {
    "collapsed": true
   },
   "outputs": [],
   "source": []
  }
 ],
 "metadata": {
  "kernelspec": {
   "display_name": "Python 3",
   "language": "python",
   "name": "python3"
  },
  "language_info": {
   "codemirror_mode": {
    "name": "ipython",
    "version": 3
   },
   "file_extension": ".py",
   "mimetype": "text/x-python",
   "name": "python",
   "nbconvert_exporter": "python",
   "pygments_lexer": "ipython3",
   "version": "3.6.0"
  }
 },
 "nbformat": 4,
 "nbformat_minor": 2
}
