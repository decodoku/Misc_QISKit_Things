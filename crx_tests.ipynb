{
 "cells": [
  {
   "cell_type": "code",
   "execution_count": 1,
   "metadata": {},
   "outputs": [],
   "source": [
    "from qiskit import *\n",
    "import random\n",
    "import numpy as np"
   ]
  },
  {
   "cell_type": "markdown",
   "metadata": {},
   "source": [
    "We'll use a two qubit circuit initialized wih a random state."
   ]
  },
  {
   "cell_type": "code",
   "execution_count": 2,
   "metadata": {},
   "outputs": [
    {
     "data": {
      "text/plain": [
       "<qiskit.circuit.instructionset.InstructionSet at 0x11fb66198>"
      ]
     },
     "execution_count": 2,
     "metadata": {},
     "output_type": "execute_result"
    }
   ],
   "source": [
    "qc = QuantumCircuit(2)\n",
    "\n",
    "ket = [random.random() for _ in range(4)]\n",
    "N = np.sqrt(sum([amp**2 for amp in ket]))\n",
    "ket = [amp/N for amp in ket]\n",
    "\n",
    "qc.initialize(ket,qc.qregs[0])"
   ]
  },
  {
   "cell_type": "markdown",
   "metadata": {},
   "source": [
    "Here's the state."
   ]
  },
  {
   "cell_type": "code",
   "execution_count": 3,
   "metadata": {},
   "outputs": [
    {
     "name": "stdout",
     "output_type": "stream",
     "text": [
      "(0.5688564481725127+0j)\n",
      "(0.4348629989000199+0j)\n",
      "(0.5902162467328289+0j)\n",
      "(0.37274830067063636+0j)\n"
     ]
    }
   ],
   "source": [
    "ket = execute(qc,Aer.get_backend('statevector_simulator')).result().get_statevector()\n",
    "for amp in ket:\n",
    "    print(amp)"
   ]
  },
  {
   "cell_type": "markdown",
   "metadata": {},
   "source": [
    "Now let's apply a swap gate made out of `cx` gates. The effect should be to swap the middle amplitides."
   ]
  },
  {
   "cell_type": "code",
   "execution_count": 4,
   "metadata": {},
   "outputs": [
    {
     "name": "stdout",
     "output_type": "stream",
     "text": [
      "(0.5688564481725127+0j)\n",
      "(0.5902162467328289+0j)\n",
      "(0.4348629989000199+0j)\n",
      "(0.37274830067063636+0j)\n"
     ]
    }
   ],
   "source": [
    "qc.cx(0,1)\n",
    "qc.cx(1,0)\n",
    "qc.cx(0,1)\n",
    "\n",
    "ket = execute(qc,Aer.get_backend('statevector_simulator')).result().get_statevector()\n",
    "for amp in ket:\n",
    "    print(amp)"
   ]
  },
  {
   "cell_type": "markdown",
   "metadata": {},
   "source": [
    "The effect is exactly what we wanted. Now let's swap back in the same way. However, instead of `cx` for the middle gate, we'll use `crx`: the controlled `x` rotation."
   ]
  },
  {
   "cell_type": "code",
   "execution_count": 5,
   "metadata": {},
   "outputs": [
    {
     "ename": "AttributeError",
     "evalue": "'QuantumCircuit' object has no attribute 'crx'",
     "output_type": "error",
     "traceback": [
      "\u001b[0;31m---------------------------------------------------------------------------\u001b[0m",
      "\u001b[0;31mAttributeError\u001b[0m                            Traceback (most recent call last)",
      "\u001b[0;32m<ipython-input-5-5f03434939f3>\u001b[0m in \u001b[0;36m<module>\u001b[0;34m\u001b[0m\n\u001b[1;32m      1\u001b[0m \u001b[0mqc\u001b[0m\u001b[0;34m.\u001b[0m\u001b[0mcx\u001b[0m\u001b[0;34m(\u001b[0m\u001b[0;36m0\u001b[0m\u001b[0;34m,\u001b[0m\u001b[0;36m1\u001b[0m\u001b[0;34m)\u001b[0m\u001b[0;34m\u001b[0m\u001b[0m\n\u001b[0;32m----> 2\u001b[0;31m \u001b[0mqc\u001b[0m\u001b[0;34m.\u001b[0m\u001b[0mcrx\u001b[0m\u001b[0;34m(\u001b[0m\u001b[0;36m1\u001b[0m\u001b[0;34m,\u001b[0m\u001b[0;36m0\u001b[0m\u001b[0;34m)\u001b[0m\u001b[0;34m\u001b[0m\u001b[0m\n\u001b[0m\u001b[1;32m      3\u001b[0m \u001b[0mqc\u001b[0m\u001b[0;34m.\u001b[0m\u001b[0mcx\u001b[0m\u001b[0;34m(\u001b[0m\u001b[0;36m0\u001b[0m\u001b[0;34m,\u001b[0m\u001b[0;36m1\u001b[0m\u001b[0;34m)\u001b[0m\u001b[0;34m\u001b[0m\u001b[0m\n",
      "\u001b[0;31mAttributeError\u001b[0m: 'QuantumCircuit' object has no attribute 'crx'"
     ]
    }
   ],
   "source": [
    "qc.cx(0,1)\n",
    "qc.crx(1,0)\n",
    "qc.cx(0,1)"
   ]
  },
  {
   "cell_type": "markdown",
   "metadata": {},
   "source": [
    "**Looks like there is no `crx`. Which is strange, `cry` and `crz` exist!**\n",
    "\n",
    "Here they are, as an example"
   ]
  },
  {
   "cell_type": "code",
   "execution_count": 6,
   "metadata": {},
   "outputs": [
    {
     "ename": "AquaError",
     "evalue": "'A qubit is expected for the control.'",
     "output_type": "error",
     "traceback": [
      "\u001b[0;31m---------------------------------------------------------------------------\u001b[0m",
      "\u001b[0;31mAquaError\u001b[0m                                 Traceback (most recent call last)",
      "\u001b[0;32m<ipython-input-6-f94c7d481024>\u001b[0m in \u001b[0;36m<module>\u001b[0;34m\u001b[0m\n\u001b[1;32m      1\u001b[0m \u001b[0mqc\u001b[0m\u001b[0;34m.\u001b[0m\u001b[0mcrz\u001b[0m\u001b[0;34m(\u001b[0m\u001b[0mnp\u001b[0m\u001b[0;34m.\u001b[0m\u001b[0mpi\u001b[0m\u001b[0;34m,\u001b[0m\u001b[0;36m0\u001b[0m\u001b[0;34m,\u001b[0m\u001b[0;36m1\u001b[0m\u001b[0;34m)\u001b[0m\u001b[0;34m\u001b[0m\u001b[0m\n\u001b[0;32m----> 2\u001b[0;31m \u001b[0mqc\u001b[0m\u001b[0;34m.\u001b[0m\u001b[0mcry\u001b[0m\u001b[0;34m(\u001b[0m\u001b[0mnp\u001b[0m\u001b[0;34m.\u001b[0m\u001b[0mpi\u001b[0m\u001b[0;34m,\u001b[0m\u001b[0;36m0\u001b[0m\u001b[0;34m,\u001b[0m\u001b[0;36m1\u001b[0m\u001b[0;34m)\u001b[0m\u001b[0;34m\u001b[0m\u001b[0m\n\u001b[0m",
      "\u001b[0;32m/usr/local/lib/python3.7/site-packages/qiskit/aqua/circuits/gates/controlled_ry_gate.py\u001b[0m in \u001b[0;36mcry\u001b[0;34m(self, theta, q_control, q_target)\u001b[0m\n\u001b[1;32m     38\u001b[0m \u001b[0;34m\u001b[0m\u001b[0m\n\u001b[1;32m     39\u001b[0m     \u001b[0;32mif\u001b[0m \u001b[0;32mnot\u001b[0m \u001b[0misinstance\u001b[0m\u001b[0;34m(\u001b[0m\u001b[0mq_control\u001b[0m\u001b[0;34m,\u001b[0m \u001b[0mQubit\u001b[0m\u001b[0;34m)\u001b[0m\u001b[0;34m:\u001b[0m\u001b[0;34m\u001b[0m\u001b[0m\n\u001b[0;32m---> 40\u001b[0;31m         \u001b[0;32mraise\u001b[0m \u001b[0mAquaError\u001b[0m\u001b[0;34m(\u001b[0m\u001b[0;34m'A qubit is expected for the control.'\u001b[0m\u001b[0;34m)\u001b[0m\u001b[0;34m\u001b[0m\u001b[0m\n\u001b[0m\u001b[1;32m     41\u001b[0m     \u001b[0;32mif\u001b[0m \u001b[0;32mnot\u001b[0m \u001b[0mself\u001b[0m\u001b[0;34m.\u001b[0m\u001b[0mhas_register\u001b[0m\u001b[0;34m(\u001b[0m\u001b[0mq_control\u001b[0m\u001b[0;34m.\u001b[0m\u001b[0mregister\u001b[0m\u001b[0;34m)\u001b[0m\u001b[0;34m:\u001b[0m\u001b[0;34m\u001b[0m\u001b[0m\n\u001b[1;32m     42\u001b[0m         \u001b[0;32mraise\u001b[0m \u001b[0mAquaError\u001b[0m\u001b[0;34m(\u001b[0m\u001b[0;34m'The control qubit is expected to be part of the circuit.'\u001b[0m\u001b[0;34m)\u001b[0m\u001b[0;34m\u001b[0m\u001b[0m\n",
      "\u001b[0;31mAquaError\u001b[0m: 'A qubit is expected for the control.'"
     ]
    }
   ],
   "source": [
    "qc.crz(np.pi,0,1)\n",
    "qc.cry(np.pi,0,1)"
   ]
  },
  {
   "cell_type": "markdown",
   "metadata": {},
   "source": [
    "These don't work, but not because `crz` and `cry` don't exist. **It is because these gates do not accept the use of integers to refer to qubits. Instead, we need to refer to them using the `QuantumRegister` object.**"
   ]
  },
  {
   "cell_type": "code",
   "execution_count": 7,
   "metadata": {},
   "outputs": [
    {
     "data": {
      "text/plain": [
       "<qiskit.circuit.quantumcircuit.QuantumCircuit at 0x11fb66048>"
      ]
     },
     "execution_count": 7,
     "metadata": {},
     "output_type": "execute_result"
    }
   ],
   "source": [
    "qr = qc.qregs[0]\n",
    "\n",
    "qc.crz(np.pi,qr[0],qr[1])\n",
    "qc.cry(np.pi,qr[0],qr[1])"
   ]
  },
  {
   "cell_type": "markdown",
   "metadata": {},
   "source": [
    "Now let's take a look at what the state is now."
   ]
  },
  {
   "cell_type": "code",
   "execution_count": 8,
   "metadata": {},
   "outputs": [
    {
     "name": "stdout",
     "output_type": "stream",
     "text": [
      "(0.5688564481725126+0j)\n",
      "(0.5902162467328288+0j)\n",
      "(0.4348629989000199+0j)\n",
      "(-0.37274830067063647+0j)\n"
     ]
    }
   ],
   "source": [
    "ket = execute(qc,Aer.get_backend('statevector_simulator')).result().get_statevector()\n",
    "for amp in ket:\n",
    "    print(amp)"
   ]
  },
  {
   "cell_type": "markdown",
   "metadata": {},
   "source": [
    "Though `crx` doesn't exist, the multiply-controlled `mcrx` does.\n",
    "\n",
    "We'll try again to make the swap using this. The angle $\\pi$ is used, so that the effect should be the same as a `cx`."
   ]
  },
  {
   "cell_type": "code",
   "execution_count": 9,
   "metadata": {},
   "outputs": [
    {
     "name": "stdout",
     "output_type": "stream",
     "text": [
      "(0.5688564481725127+0j)\n",
      "-0.43486299890001984j\n",
      "-0.5902162467328289j\n",
      "(-0.3727483006706364+0j)\n"
     ]
    }
   ],
   "source": [
    "qr = qc.qregs[0]\n",
    "\n",
    "qc.cx(0,1)\n",
    "qc.mcrx(np.pi,[qr[1]],qr[0])\n",
    "qc.cx(0,1)\n",
    "\n",
    "ket = execute(qc,Aer.get_backend('statevector_simulator')).result().get_statevector()\n",
    "for amp in ket:\n",
    "    print(amp)"
   ]
  },
  {
   "cell_type": "markdown",
   "metadata": {},
   "source": [
    "**This does have the swap effect, but it also introduces an unwanted phase on the middle two amplitudes.**\n",
    "\n",
    "Now we'll apply this gate to each basis state to see the effect."
   ]
  },
  {
   "cell_type": "code",
   "execution_count": 10,
   "metadata": {},
   "outputs": [
    {
     "name": "stdout",
     "output_type": "stream",
     "text": [
      "(1+0j)\n",
      "0j\n",
      "0j\n",
      "0j\n"
     ]
    }
   ],
   "source": [
    "qc = QuantumCircuit(2)\n",
    "ket = [1,0,0,0]\n",
    "qc.initialize(ket,qc.qregs[0])\n",
    "\n",
    "qc.mcrx(np.pi,[qr[0]],qr[1])\n",
    "\n",
    "ket = execute(qc,Aer.get_backend('statevector_simulator')).result().get_statevector()\n",
    "for amp in ket:\n",
    "    print(amp)"
   ]
  },
  {
   "cell_type": "code",
   "execution_count": 11,
   "metadata": {},
   "outputs": [
    {
     "name": "stdout",
     "output_type": "stream",
     "text": [
      "0j\n",
      "0j\n",
      "0j\n",
      "-1j\n"
     ]
    }
   ],
   "source": [
    "qc = QuantumCircuit(2)\n",
    "ket = [0,1,0,0]\n",
    "qc.initialize(ket,qc.qregs[0])\n",
    "\n",
    "qc.mcrx(np.pi,[qr[0]],qr[1])\n",
    "\n",
    "ket = execute(qc,Aer.get_backend('statevector_simulator')).result().get_statevector()\n",
    "for amp in ket:\n",
    "    print(amp)"
   ]
  },
  {
   "cell_type": "code",
   "execution_count": 12,
   "metadata": {},
   "outputs": [
    {
     "name": "stdout",
     "output_type": "stream",
     "text": [
      "0j\n",
      "0j\n",
      "(1+0j)\n",
      "0j\n"
     ]
    }
   ],
   "source": [
    "qc = QuantumCircuit(2)\n",
    "ket = [0,0,1,0]\n",
    "qc.initialize(ket,qc.qregs[0])\n",
    "\n",
    "qc.mcrx(np.pi,[qr[0]],qr[1])\n",
    "\n",
    "ket = execute(qc,Aer.get_backend('statevector_simulator')).result().get_statevector()\n",
    "for amp in ket:\n",
    "    print(amp)"
   ]
  },
  {
   "cell_type": "code",
   "execution_count": 13,
   "metadata": {},
   "outputs": [
    {
     "name": "stdout",
     "output_type": "stream",
     "text": [
      "0j\n",
      "-1j\n",
      "0j\n",
      "0j\n"
     ]
    }
   ],
   "source": [
    "qc = QuantumCircuit(2)\n",
    "ket = [0,0,0,1]\n",
    "qc.initialize(ket,qc.qregs[0])\n",
    "\n",
    "qc.mcrx(np.pi,[qr[0]],qr[1])\n",
    "\n",
    "ket = execute(qc,Aer.get_backend('statevector_simulator')).result().get_statevector()\n",
    "for amp in ket:\n",
    "    print(amp)"
   ]
  },
  {
   "cell_type": "markdown",
   "metadata": {},
   "source": [
    "**It does the flips that it should, but with an additional phase of $-1$. This doesn't look right.**"
   ]
  },
  {
   "cell_type": "code",
   "execution_count": null,
   "metadata": {},
   "outputs": [],
   "source": []
  }
 ],
 "metadata": {
  "kernelspec": {
   "display_name": "Python 3",
   "language": "python",
   "name": "python3"
  },
  "language_info": {
   "codemirror_mode": {
    "name": "ipython",
    "version": 3
   },
   "file_extension": ".py",
   "mimetype": "text/x-python",
   "name": "python",
   "nbconvert_exporter": "python",
   "pygments_lexer": "ipython3",
   "version": "3.7.0"
  }
 },
 "nbformat": 4,
 "nbformat_minor": 2
}
